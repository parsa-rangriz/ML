{
 "cells": [
  {
   "cell_type": "markdown",
   "metadata": {},
   "source": [
    "In this problem, we seek to solve 1D transverse field Ising model and find the ground state of it. Then try to diaganolize the Hamiltonian of the system and find out that in which condition, we have a phase transition."
   ]
  },
  {
   "cell_type": "code",
   "execution_count": 1,
   "metadata": {},
   "outputs": [],
   "source": [
    "import numpy as np\n",
    "import matplotlib.pyplot as plt\n",
    "import scipy.sparse as sp"
   ]
  },
  {
   "cell_type": "markdown",
   "metadata": {},
   "source": [
    "The Hamiltonian of the system is \n",
    "$$\\mathcal H = -J \\sum_{i = 1}^{N} \\sigma_z^i \\sigma_z^{i+1} - h \\sum_{i = 1}^{N} \\sigma_x^i$$\n",
    "where we choose $J = 1$ and $h \\in [0, 1]$. Therefore we have 10 data sets and can find the critical point, called $h_c$ "
   ]
  },
  {
   "cell_type": "code",
   "execution_count": 2,
   "metadata": {},
   "outputs": [],
   "source": [
    "N = 12\n",
    "J = 1\n",
    "h = np.arange(0.1, 5, 0.1)"
   ]
  },
  {
   "cell_type": "markdown",
   "metadata": {},
   "source": [
    "Pauli matrices:\n",
    "$$\\sigma_z = \\frac 1 2\\begin{bmatrix}\n",
    "       1 & 0 \\\\\n",
    "       0 & -1\n",
    "     \\end{bmatrix}, \\quad \\sigma_x = \\frac 1 2 \\begin{bmatrix}\n",
    "       0 & 1 \\\\\n",
    "       1 & 0\n",
    "     \\end{bmatrix}$$"
   ]
  },
  {
   "cell_type": "code",
   "execution_count": 3,
   "metadata": {},
   "outputs": [],
   "source": [
    "sigmaz = 0.5 * np.matrix('1 0 ; 0 -1')\n",
    "sigmaz = sp.csr_matrix(sigmaz)\n",
    "sigmax = 0.5 * np.matrix('0 1; 1 0')\n",
    "sigmax = sp.csr_matrix(sigmax)"
   ]
  },
  {
   "cell_type": "markdown",
   "metadata": {},
   "source": [
    "In our Hamiltonian, we have tensor products of puali matrices for each spin, so\n",
    "$$\\sigma_z^i = \\underbrace{I \\otimes I \\otimes \\cdots \\otimes I}_\\text{i-1} \\otimes \\sigma_z \\otimes \\underbrace{I \\otimes I \\otimes \\cdots \\otimes I}_\\text{N-i}$$\n",
    "\n",
    "$$\\sigma_x^i = \\underbrace{I \\otimes I \\otimes \\cdots \\otimes I}_\\text{i-1} \\otimes \\sigma_x \\otimes \\underbrace{I \\otimes I \\otimes \\cdots \\otimes I}_\\text{N-i}$$"
   ]
  },
  {
   "cell_type": "code",
   "execution_count": 4,
   "metadata": {},
   "outputs": [],
   "source": [
    "sigma_z = dict()\n",
    "sigma_x = dict()\n",
    "for j in range(1, N+1):\n",
    "    sigma_z[j] = sigmaz\n",
    "    sigma_x[j] = sigmax\n",
    "    for k in range(1, j):\n",
    "        sigma_z[j] = sp.kron(sp.identity(2), sigma_z[j])\n",
    "        sigma_x[j] = sp.kron(sp.identity(2), sigma_x[j])\n",
    "    for k in range(1, N-j+1):\n",
    "        sigma_z[j] = sp.kron(sigma_z[j], sp.identity(2))\n",
    "        sigma_x[j] = sp.kron(sigma_x[j], sp.identity(2))"
   ]
  },
  {
   "cell_type": "markdown",
   "metadata": {},
   "source": [
    "Again, we write our Hamiltonian:\n",
    "$$\\mathcal H_h = -J \\sum_{i = 1}^{N} \\sigma_z^i \\sigma_z^{i+1} - h \\sum_{i = 1}^{N} \\sigma_x^i$$"
   ]
  },
  {
   "cell_type": "code",
   "execution_count": 5,
   "metadata": {},
   "outputs": [],
   "source": [
    "H = dict()\n",
    "for l in h:\n",
    "    H[l] = sp.csr_matrix((2**N, 2**N))\n",
    "    for i in range(1, N):\n",
    "        H[l] = H[l] - sigma_z[i].multiply(sigma_z[i+1]) - sigma_x[i]\n",
    "    H[l] = H[l] - J*sigma_z[N].multiply(sigma_z[1]) - l*sigma_x[N]"
   ]
  },
  {
   "cell_type": "markdown",
   "metadata": {},
   "source": [
    "Now, we want to diagonalize the Hamiltonian:\n",
    "$$H_h \\psi_n = E_n \\psi_n$$\n",
    "where $\\psi_n$ is the $n$th eigenvector and $E_n$ is the $n$th eigenvalue."
   ]
  },
  {
   "cell_type": "code",
   "execution_count": 6,
   "metadata": {
    "scrolled": false
   },
   "outputs": [],
   "source": [
    "from scipy.sparse.linalg import eigs\n",
    "E_n = dict()\n",
    "psi_n = dict()\n",
    "for l in h:\n",
    "    E_n[l], psi_n[l] = eigs(H[l])"
   ]
  },
  {
   "cell_type": "markdown",
   "metadata": {},
   "source": [
    "We seek to find the ground state. So we have to find the minimum of $E_n$ and call it $E_{min}$ and the ground state $\\psi_{min}$.\n",
    "\n",
    "Then our purpose is to calculate \n",
    "$$G(\\sigma_z^i, \\sigma_z^{i+1}) = \\mathbb E(\\sigma_z^i \\sigma_z^{i+1}) - \\mathbb E(\\sigma_z^i) \\mathbb E(\\sigma_z^{i+1})  $$\n",
    "where \n",
    "$\\mathbb E (C) = \\psi_{min}^* C\\psi_{min}$"
   ]
  },
  {
   "cell_type": "code",
   "execution_count": 8,
   "metadata": {},
   "outputs": [
    {
     "name": "stderr",
     "output_type": "stream",
     "text": [
      "/Users/parsarangriz/opt/anaconda3/lib/python3.8/site-packages/numpy/core/_asarray.py:83: ComplexWarning: Casting complex values to real discards the imaginary part\n",
      "  return array(a, dtype, copy=False, order=order)\n"
     ]
    },
    {
     "data": {
      "image/png": "[encoded data removed]",
      "text/plain": [
       "<Figure size 432x288 with 1 Axes>"
      ]
     },
     "metadata": {
      "needs_background": "light"
     },
     "output_type": "display_data"
    }
   ],
   "source": [
    "G = dict()\n",
    "for l in h:\n",
    "    Sigma_zz= np.dot(np.conjugate(psi_n[l][:, np.argmin(E_n[l])]), sigma_z[1].multiply(sigma_z[1+1]).dot(psi_n[l][:, np.argmin(E_n[l])]))\n",
    "    Sigma_z = np.dot(np.conjugate(psi_n[l][:, np.argmin(E_n[l])]), sigma_z[1].dot(psi_n[l][:, np.argmin(E_n[l])]))\n",
    "    Sigma_z2 = np.dot(np.conjugate(psi_n[l][:, np.argmin(E_n[l])]), sigma_z[1+1].dot(psi_n[l][:, np.argmin(E_n[l])]))\n",
    "    G[l] = Sigma_zz - Sigma_z*Sigma_z2\n",
    "plt.plot(h, G.values(), 'o-')\n",
    "plt.ylabel('Sz^i Sz^i+1')\n",
    "plt.xlabel('h')\n",
    "plt.title(\"SzSz\")\n",
    "plt.show()"
   ]
  },
  {
   "cell_type": "markdown",
   "metadata": {},
   "source": [
    "In this moment, we try to evaluate the mean of $\\sigma_x$. In the other word, we try to find\n",
    "$$S = \\mathbb E(\\sigma_x^i)$$"
   ]
  },
  {
   "cell_type": "code",
   "execution_count": 9,
   "metadata": {
    "scrolled": true
   },
   "outputs": [
    {
     "name": "stderr",
     "output_type": "stream",
     "text": [
      "/Users/parsarangriz/opt/anaconda3/lib/python3.8/site-packages/numpy/core/_asarray.py:83: ComplexWarning: Casting complex values to real discards the imaginary part\n",
      "  return array(a, dtype, copy=False, order=order)\n"
     ]
    },
    {
     "data": {
      "image/png": "[encoded data removed]",
      "text/plain": [
       "<Figure size 432x288 with 1 Axes>"
      ]
     },
     "metadata": {
      "needs_background": "light"
     },
     "output_type": "display_data"
    }
   ],
   "source": [
    "S = dict()\n",
    "for l in h:\n",
    "    S[l] = np.dot(np.conjugate(psi_n[l][:, np.argmin(E_n[l])]), sigma_x[1].dot(psi_n[l][:, np.argmin(E_n[l])]))\n",
    "plt.plot(h, S.values(), 'o-')\n",
    "plt.xlabel(\"h\")\n",
    "plt.ylabel(\"E(Sx)\")\n",
    "plt.title(\"Sx\")\n",
    "plt.show()"
   ]
  }
 ],
 "metadata": {
  "kernelspec": {
   "display_name": "Python 3",
   "language": "python",
   "name": "python3"
  },
  "language_info": {
   "codemirror_mode": {
    "name": "ipython",
    "version": 3
   },
   "file_extension": ".py",
   "mimetype": "text/x-python",
   "name": "python",
   "nbconvert_exporter": "python",
   "pygments_lexer": "ipython3",
   "version": "3.8.5"
  }
 },
 "nbformat": 4,
 "nbformat_minor": 4
}
