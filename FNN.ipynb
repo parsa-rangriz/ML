{
  "nbformat": 4,
  "nbformat_minor": 0,
  "metadata": {
    "colab": {
      "name": "FNN.ipynb",
      "provenance": []
    },
    "kernelspec": {
      "name": "python3",
      "display_name": "Python 3"
    },
    "language_info": {
      "name": "python"
    }
  },
  "cells": [
    {
      "cell_type": "markdown",
      "metadata": {
        "id": "6yMDGrFymnun"
      },
      "source": [
        "# **Preliminaries**"
      ]
    },
    {
      "cell_type": "code",
      "metadata": {
        "id": "v5Vb5rKImhJt"
      },
      "source": [
        "import numpy as np\n",
        "import matplotlib.pyplot as plt\n",
        "import pandas as pd\n",
        "import io\n",
        "import seaborn as sns\n",
        "import tensorflow as tf\n",
        "from tensorflow import keras as ks\n",
        "import warnings\n",
        "warnings.filterwarnings('ignore')"
      ],
      "execution_count": null,
      "outputs": []
    },
    {
      "cell_type": "markdown",
      "metadata": {
        "id": "QmyORKUEm3Ot"
      },
      "source": [
        "# **Data**"
      ]
    },
    {
      "cell_type": "code",
      "metadata": {
        "colab": {
          "base_uri": "https://localhost:8080/"
        },
        "id": "bX59eC4nwQqf",
        "outputId": "de76ceae-e443-4827-9cfb-26848f512108"
      },
      "source": [
        "from google.colab import drive\n",
        "drive.mount('/content/drive')"
      ],
      "execution_count": null,
      "outputs": [
        {
          "output_type": "stream",
          "text": [
            "Mounted at /content/drive\n"
          ],
          "name": "stdout"
        }
      ]
    },
    {
      "cell_type": "code",
      "metadata": {
        "id": "0FM1CVsIwQxv"
      },
      "source": [
        "path ='/content/drive/MyDrive/Data_XY.csv'\n",
        "data = pd.read_csv(path)"
      ],
      "execution_count": null,
      "outputs": []
    },
    {
      "cell_type": "code",
      "metadata": {
        "id": "j68Ocf5zwopc"
      },
      "source": [
        "x = data.iloc[:,:4186]\n",
        "x = np.array(x)\n",
        "y = data['y']"
      ],
      "execution_count": null,
      "outputs": []
    },
    {
      "cell_type": "code",
      "metadata": {
        "colab": {
          "base_uri": "https://localhost:8080/"
        },
        "id": "swrPw7G_wor0",
        "outputId": "01e4c52c-92d5-498a-c75a-e98b289a77d6"
      },
      "source": [
        "from sklearn.model_selection import train_test_split\n",
        "x_train, x_test, y_train, y_test = train_test_split(x, y)\n",
        "print(x_train.shape)"
      ],
      "execution_count": null,
      "outputs": [
        {
          "output_type": "stream",
          "text": [
            "(525, 4186)\n"
          ],
          "name": "stdout"
        }
      ]
    },
    {
      "cell_type": "code",
      "metadata": {
        "colab": {
          "base_uri": "https://localhost:8080/"
        },
        "id": "KZCeE0guwouH",
        "outputId": "40397c79-a7a9-4035-86e1-1b697d11b133"
      },
      "source": [
        "from tensorflow import keras as ks\n",
        "\n",
        "model = ks.Sequential()\n",
        "model.add(ks.layers.Dense(20, activation=ks.activations.tanh, input_dim =  4186)  )\n",
        "model.add(ks.layers.Dense(20, activation=ks.activations.relu)  )\n",
        "model.add(ks.layers.Dense(19, activation=ks.activations.softsign)  )\n",
        "model.add(ks.layers.Dense(209, activation=ks.activations.softmax)  )\n",
        "model.add(ks.layers.Dense(211, activation=ks.activations.tanh)  )\n",
        "model.add(ks.layers.Dense(20, activation=ks.activations.tanh)  )\n",
        "model.add(ks.layers.Dense(20, activation=ks.activations.tanh)  )\n",
        "model.add(ks.layers.Dense(1, activation=ks.activations.linear)  )\n",
        "model.summary()"
      ],
      "execution_count": null,
      "outputs": [
        {
          "output_type": "stream",
          "text": [
            "Model: \"sequential\"\n",
            "_________________________________________________________________\n",
            "Layer (type)                 Output Shape              Param #   \n",
            "=================================================================\n",
            "dense (Dense)                (None, 20)                83740     \n",
            "_________________________________________________________________\n",
            "dense_1 (Dense)              (None, 20)                420       \n",
            "_________________________________________________________________\n",
            "dense_2 (Dense)              (None, 19)                399       \n",
            "_________________________________________________________________\n",
            "dense_3 (Dense)              (None, 209)               4180      \n",
            "_________________________________________________________________\n",
            "dense_4 (Dense)              (None, 211)               44310     \n",
            "_________________________________________________________________\n",
            "dense_5 (Dense)              (None, 20)                4240      \n",
            "_________________________________________________________________\n",
            "dense_6 (Dense)              (None, 20)                420       \n",
            "_________________________________________________________________\n",
            "dense_7 (Dense)              (None, 1)                 21        \n",
            "=================================================================\n",
            "Total params: 137,730\n",
            "Trainable params: 137,730\n",
            "Non-trainable params: 0\n",
            "_________________________________________________________________\n"
          ],
          "name": "stdout"
        }
      ]
    },
    {
      "cell_type": "code",
      "metadata": {
        "id": "E9VpjJ37wozE"
      },
      "source": [
        "model.compile( loss='mean_squared_error' , \n",
        "              optimizer='adam',metrics='mse')"
      ],
      "execution_count": null,
      "outputs": []
    },
    {
      "cell_type": "code",
      "metadata": {
        "colab": {
          "base_uri": "https://localhost:8080/"
        },
        "id": "7PNSj6bSxAKq",
        "outputId": "7abda95a-e5a9-426e-e944-063cf76f30bc"
      },
      "source": [
        "history = model.fit(x_train, y_train, epochs=150, batch_size=50,  verbose=1, validation_split=0.2)"
      ],
      "execution_count": null,
      "outputs": [
        {
          "output_type": "stream",
          "text": [
            "Epoch 1/150\n",
            "9/9 [==============================] - 1s 26ms/step - loss: 14.3966 - mse: 14.3966 - val_loss: 10.2379 - val_mse: 10.2379\n",
            "Epoch 2/150\n",
            "9/9 [==============================] - 0s 7ms/step - loss: 9.0086 - mse: 9.0086 - val_loss: 5.3904 - val_mse: 5.3904\n",
            "Epoch 3/150\n",
            "9/9 [==============================] - 0s 7ms/step - loss: 4.7546 - mse: 4.7546 - val_loss: 4.1704 - val_mse: 4.1704\n",
            "Epoch 4/150\n",
            "9/9 [==============================] - 0s 7ms/step - loss: 4.1025 - mse: 4.1025 - val_loss: 4.6319 - val_mse: 4.6319\n",
            "Epoch 5/150\n",
            "9/9 [==============================] - 0s 8ms/step - loss: 4.1915 - mse: 4.1915 - val_loss: 4.2676 - val_mse: 4.2676\n",
            "Epoch 6/150\n",
            "9/9 [==============================] - 0s 7ms/step - loss: 3.9158 - mse: 3.9158 - val_loss: 3.9928 - val_mse: 3.9928\n",
            "Epoch 7/150\n",
            "9/9 [==============================] - 0s 7ms/step - loss: 3.8005 - mse: 3.8005 - val_loss: 3.7535 - val_mse: 3.7535\n",
            "Epoch 8/150\n",
            "9/9 [==============================] - 0s 7ms/step - loss: 3.5768 - mse: 3.5768 - val_loss: 3.3761 - val_mse: 3.3761\n",
            "Epoch 9/150\n",
            "9/9 [==============================] - 0s 7ms/step - loss: 3.0967 - mse: 3.0967 - val_loss: 2.6994 - val_mse: 2.6994\n",
            "Epoch 10/150\n",
            "9/9 [==============================] - 0s 7ms/step - loss: 2.2728 - mse: 2.2728 - val_loss: 1.6411 - val_mse: 1.6411\n",
            "Epoch 11/150\n",
            "9/9 [==============================] - 0s 7ms/step - loss: 1.3035 - mse: 1.3035 - val_loss: 0.6760 - val_mse: 0.6760\n",
            "Epoch 12/150\n",
            "9/9 [==============================] - 0s 7ms/step - loss: 0.7547 - mse: 0.7547 - val_loss: 0.5906 - val_mse: 0.5906\n",
            "Epoch 13/150\n",
            "9/9 [==============================] - 0s 7ms/step - loss: 0.6919 - mse: 0.6919 - val_loss: 0.4082 - val_mse: 0.4082\n",
            "Epoch 14/150\n",
            "9/9 [==============================] - 0s 8ms/step - loss: 0.4294 - mse: 0.4294 - val_loss: 0.2736 - val_mse: 0.2736\n",
            "Epoch 15/150\n",
            "9/9 [==============================] - 0s 7ms/step - loss: 0.2855 - mse: 0.2855 - val_loss: 0.1691 - val_mse: 0.1691\n",
            "Epoch 16/150\n",
            "9/9 [==============================] - 0s 7ms/step - loss: 0.1706 - mse: 0.1706 - val_loss: 0.1032 - val_mse: 0.1032\n",
            "Epoch 17/150\n",
            "9/9 [==============================] - 0s 7ms/step - loss: 0.1111 - mse: 0.1111 - val_loss: 0.0673 - val_mse: 0.0673\n",
            "Epoch 18/150\n",
            "9/9 [==============================] - 0s 7ms/step - loss: 0.0704 - mse: 0.0704 - val_loss: 0.0474 - val_mse: 0.0474\n",
            "Epoch 19/150\n",
            "9/9 [==============================] - 0s 7ms/step - loss: 0.0496 - mse: 0.0496 - val_loss: 0.0351 - val_mse: 0.0351\n",
            "Epoch 20/150\n",
            "9/9 [==============================] - 0s 7ms/step - loss: 0.0390 - mse: 0.0390 - val_loss: 0.0267 - val_mse: 0.0267\n",
            "Epoch 21/150\n",
            "9/9 [==============================] - 0s 7ms/step - loss: 0.0294 - mse: 0.0294 - val_loss: 0.0209 - val_mse: 0.0209\n",
            "Epoch 22/150\n",
            "9/9 [==============================] - 0s 7ms/step - loss: 0.0245 - mse: 0.0245 - val_loss: 0.0159 - val_mse: 0.0159\n",
            "Epoch 23/150\n",
            "9/9 [==============================] - 0s 8ms/step - loss: 0.0195 - mse: 0.0195 - val_loss: 0.0115 - val_mse: 0.0115\n",
            "Epoch 24/150\n",
            "9/9 [==============================] - 0s 7ms/step - loss: 0.0158 - mse: 0.0158 - val_loss: 0.0093 - val_mse: 0.0093\n",
            "Epoch 25/150\n",
            "9/9 [==============================] - 0s 8ms/step - loss: 0.0128 - mse: 0.0128 - val_loss: 0.0076 - val_mse: 0.0076\n",
            "Epoch 26/150\n",
            "9/9 [==============================] - 0s 8ms/step - loss: 0.0110 - mse: 0.0110 - val_loss: 0.0057 - val_mse: 0.0057\n",
            "Epoch 27/150\n",
            "9/9 [==============================] - 0s 7ms/step - loss: 0.0094 - mse: 0.0094 - val_loss: 0.0065 - val_mse: 0.0065\n",
            "Epoch 28/150\n",
            "9/9 [==============================] - 0s 9ms/step - loss: 0.0081 - mse: 0.0081 - val_loss: 0.0041 - val_mse: 0.0041\n",
            "Epoch 29/150\n",
            "9/9 [==============================] - 0s 7ms/step - loss: 0.0068 - mse: 0.0068 - val_loss: 0.0043 - val_mse: 0.0043\n",
            "Epoch 30/150\n",
            "9/9 [==============================] - 0s 7ms/step - loss: 0.0061 - mse: 0.0061 - val_loss: 0.0039 - val_mse: 0.0039\n",
            "Epoch 31/150\n",
            "9/9 [==============================] - 0s 9ms/step - loss: 0.0056 - mse: 0.0056 - val_loss: 0.0045 - val_mse: 0.0045\n",
            "Epoch 32/150\n",
            "9/9 [==============================] - 0s 7ms/step - loss: 0.0054 - mse: 0.0054 - val_loss: 0.0029 - val_mse: 0.0029\n",
            "Epoch 33/150\n",
            "9/9 [==============================] - 0s 7ms/step - loss: 0.0041 - mse: 0.0041 - val_loss: 0.0026 - val_mse: 0.0026\n",
            "Epoch 34/150\n",
            "9/9 [==============================] - 0s 7ms/step - loss: 0.0038 - mse: 0.0038 - val_loss: 0.0028 - val_mse: 0.0028\n",
            "Epoch 35/150\n",
            "9/9 [==============================] - 0s 7ms/step - loss: 0.0040 - mse: 0.0040 - val_loss: 0.0032 - val_mse: 0.0032\n",
            "Epoch 36/150\n",
            "9/9 [==============================] - 0s 7ms/step - loss: 0.0036 - mse: 0.0036 - val_loss: 0.0018 - val_mse: 0.0018\n",
            "Epoch 37/150\n",
            "9/9 [==============================] - 0s 7ms/step - loss: 0.0028 - mse: 0.0028 - val_loss: 0.0029 - val_mse: 0.0029\n",
            "Epoch 38/150\n",
            "9/9 [==============================] - 0s 7ms/step - loss: 0.0027 - mse: 0.0027 - val_loss: 0.0016 - val_mse: 0.0016\n",
            "Epoch 39/150\n",
            "9/9 [==============================] - 0s 7ms/step - loss: 0.0023 - mse: 0.0023 - val_loss: 0.0018 - val_mse: 0.0018\n",
            "Epoch 40/150\n",
            "9/9 [==============================] - 0s 7ms/step - loss: 0.0022 - mse: 0.0022 - val_loss: 0.0015 - val_mse: 0.0015\n",
            "Epoch 41/150\n",
            "9/9 [==============================] - 0s 7ms/step - loss: 0.0018 - mse: 0.0018 - val_loss: 0.0013 - val_mse: 0.0013\n",
            "Epoch 42/150\n",
            "9/9 [==============================] - 0s 7ms/step - loss: 0.0017 - mse: 0.0017 - val_loss: 0.0013 - val_mse: 0.0013\n",
            "Epoch 43/150\n",
            "9/9 [==============================] - 0s 7ms/step - loss: 0.0020 - mse: 0.0020 - val_loss: 0.0012 - val_mse: 0.0012\n",
            "Epoch 44/150\n",
            "9/9 [==============================] - 0s 7ms/step - loss: 0.0020 - mse: 0.0020 - val_loss: 0.0013 - val_mse: 0.0013\n",
            "Epoch 45/150\n",
            "9/9 [==============================] - 0s 7ms/step - loss: 0.0016 - mse: 0.0016 - val_loss: 0.0013 - val_mse: 0.0013\n",
            "Epoch 46/150\n",
            "9/9 [==============================] - 0s 8ms/step - loss: 0.0017 - mse: 0.0017 - val_loss: 9.7366e-04 - val_mse: 9.7366e-04\n",
            "Epoch 47/150\n",
            "9/9 [==============================] - 0s 7ms/step - loss: 0.0012 - mse: 0.0012 - val_loss: 0.0013 - val_mse: 0.0013\n",
            "Epoch 48/150\n",
            "9/9 [==============================] - 0s 7ms/step - loss: 0.0012 - mse: 0.0012 - val_loss: 8.6120e-04 - val_mse: 8.6120e-04\n",
            "Epoch 49/150\n",
            "9/9 [==============================] - 0s 7ms/step - loss: 0.0011 - mse: 0.0011 - val_loss: 7.1476e-04 - val_mse: 7.1476e-04\n",
            "Epoch 50/150\n",
            "9/9 [==============================] - 0s 7ms/step - loss: 9.1794e-04 - mse: 9.1794e-04 - val_loss: 7.6586e-04 - val_mse: 7.6586e-04\n",
            "Epoch 51/150\n",
            "9/9 [==============================] - 0s 7ms/step - loss: 9.5311e-04 - mse: 9.5311e-04 - val_loss: 8.1771e-04 - val_mse: 8.1771e-04\n",
            "Epoch 52/150\n",
            "9/9 [==============================] - 0s 7ms/step - loss: 9.4459e-04 - mse: 9.4459e-04 - val_loss: 6.8841e-04 - val_mse: 6.8841e-04\n",
            "Epoch 53/150\n",
            "9/9 [==============================] - 0s 7ms/step - loss: 8.4739e-04 - mse: 8.4739e-04 - val_loss: 7.6716e-04 - val_mse: 7.6716e-04\n",
            "Epoch 54/150\n",
            "9/9 [==============================] - 0s 7ms/step - loss: 8.3583e-04 - mse: 8.3583e-04 - val_loss: 7.3454e-04 - val_mse: 7.3454e-04\n",
            "Epoch 55/150\n",
            "9/9 [==============================] - 0s 7ms/step - loss: 8.3130e-04 - mse: 8.3130e-04 - val_loss: 7.0821e-04 - val_mse: 7.0821e-04\n",
            "Epoch 56/150\n",
            "9/9 [==============================] - 0s 7ms/step - loss: 7.5369e-04 - mse: 7.5369e-04 - val_loss: 5.9368e-04 - val_mse: 5.9368e-04\n",
            "Epoch 57/150\n",
            "9/9 [==============================] - 0s 7ms/step - loss: 6.6857e-04 - mse: 6.6857e-04 - val_loss: 5.7703e-04 - val_mse: 5.7703e-04\n",
            "Epoch 58/150\n",
            "9/9 [==============================] - 0s 7ms/step - loss: 6.2610e-04 - mse: 6.2610e-04 - val_loss: 5.6340e-04 - val_mse: 5.6340e-04\n",
            "Epoch 59/150\n",
            "9/9 [==============================] - 0s 7ms/step - loss: 6.1012e-04 - mse: 6.1012e-04 - val_loss: 4.6966e-04 - val_mse: 4.6966e-04\n",
            "Epoch 60/150\n",
            "9/9 [==============================] - 0s 7ms/step - loss: 5.9553e-04 - mse: 5.9553e-04 - val_loss: 6.8399e-04 - val_mse: 6.8399e-04\n",
            "Epoch 61/150\n",
            "9/9 [==============================] - 0s 7ms/step - loss: 5.9928e-04 - mse: 5.9928e-04 - val_loss: 7.7095e-04 - val_mse: 7.7095e-04\n",
            "Epoch 62/150\n",
            "9/9 [==============================] - 0s 7ms/step - loss: 8.2789e-04 - mse: 8.2789e-04 - val_loss: 9.8112e-04 - val_mse: 9.8112e-04\n",
            "Epoch 63/150\n",
            "9/9 [==============================] - 0s 7ms/step - loss: 7.9442e-04 - mse: 7.9442e-04 - val_loss: 6.3790e-04 - val_mse: 6.3790e-04\n",
            "Epoch 64/150\n",
            "9/9 [==============================] - 0s 7ms/step - loss: 6.0847e-04 - mse: 6.0847e-04 - val_loss: 4.7134e-04 - val_mse: 4.7134e-04\n",
            "Epoch 65/150\n",
            "9/9 [==============================] - 0s 7ms/step - loss: 4.8752e-04 - mse: 4.8752e-04 - val_loss: 5.6401e-04 - val_mse: 5.6401e-04\n",
            "Epoch 66/150\n",
            "9/9 [==============================] - 0s 7ms/step - loss: 5.2067e-04 - mse: 5.2067e-04 - val_loss: 3.6439e-04 - val_mse: 3.6439e-04\n",
            "Epoch 67/150\n",
            "9/9 [==============================] - 0s 6ms/step - loss: 4.6953e-04 - mse: 4.6953e-04 - val_loss: 7.3591e-04 - val_mse: 7.3591e-04\n",
            "Epoch 68/150\n",
            "9/9 [==============================] - 0s 7ms/step - loss: 5.8999e-04 - mse: 5.8999e-04 - val_loss: 4.6310e-04 - val_mse: 4.6310e-04\n",
            "Epoch 69/150\n",
            "9/9 [==============================] - 0s 8ms/step - loss: 5.1202e-04 - mse: 5.1202e-04 - val_loss: 5.2716e-04 - val_mse: 5.2716e-04\n",
            "Epoch 70/150\n",
            "9/9 [==============================] - 0s 7ms/step - loss: 5.2306e-04 - mse: 5.2306e-04 - val_loss: 4.2877e-04 - val_mse: 4.2877e-04\n",
            "Epoch 71/150\n",
            "9/9 [==============================] - 0s 7ms/step - loss: 4.7781e-04 - mse: 4.7781e-04 - val_loss: 5.2280e-04 - val_mse: 5.2280e-04\n",
            "Epoch 72/150\n",
            "9/9 [==============================] - 0s 7ms/step - loss: 4.9300e-04 - mse: 4.9300e-04 - val_loss: 5.3738e-04 - val_mse: 5.3738e-04\n",
            "Epoch 73/150\n",
            "9/9 [==============================] - 0s 7ms/step - loss: 4.2175e-04 - mse: 4.2175e-04 - val_loss: 4.7683e-04 - val_mse: 4.7683e-04\n",
            "Epoch 74/150\n",
            "9/9 [==============================] - 0s 8ms/step - loss: 4.4208e-04 - mse: 4.4208e-04 - val_loss: 3.5573e-04 - val_mse: 3.5573e-04\n",
            "Epoch 75/150\n",
            "9/9 [==============================] - 0s 8ms/step - loss: 3.9965e-04 - mse: 3.9965e-04 - val_loss: 3.4947e-04 - val_mse: 3.4947e-04\n",
            "Epoch 76/150\n",
            "9/9 [==============================] - 0s 9ms/step - loss: 3.9537e-04 - mse: 3.9537e-04 - val_loss: 3.1309e-04 - val_mse: 3.1309e-04\n",
            "Epoch 77/150\n",
            "9/9 [==============================] - 0s 7ms/step - loss: 3.9331e-04 - mse: 3.9331e-04 - val_loss: 3.5661e-04 - val_mse: 3.5661e-04\n",
            "Epoch 78/150\n",
            "9/9 [==============================] - 0s 7ms/step - loss: 3.3570e-04 - mse: 3.3570e-04 - val_loss: 2.4801e-04 - val_mse: 2.4801e-04\n",
            "Epoch 79/150\n",
            "9/9 [==============================] - 0s 7ms/step - loss: 3.0057e-04 - mse: 3.0057e-04 - val_loss: 3.5493e-04 - val_mse: 3.5493e-04\n",
            "Epoch 80/150\n",
            "9/9 [==============================] - 0s 7ms/step - loss: 3.3968e-04 - mse: 3.3968e-04 - val_loss: 2.7952e-04 - val_mse: 2.7952e-04\n",
            "Epoch 81/150\n",
            "9/9 [==============================] - 0s 8ms/step - loss: 4.4838e-04 - mse: 4.4838e-04 - val_loss: 4.6894e-04 - val_mse: 4.6894e-04\n",
            "Epoch 82/150\n",
            "9/9 [==============================] - 0s 8ms/step - loss: 5.4102e-04 - mse: 5.4102e-04 - val_loss: 3.9602e-04 - val_mse: 3.9602e-04\n",
            "Epoch 83/150\n",
            "9/9 [==============================] - 0s 7ms/step - loss: 3.7478e-04 - mse: 3.7478e-04 - val_loss: 3.4577e-04 - val_mse: 3.4577e-04\n",
            "Epoch 84/150\n",
            "9/9 [==============================] - 0s 7ms/step - loss: 3.4044e-04 - mse: 3.4044e-04 - val_loss: 4.6563e-04 - val_mse: 4.6563e-04\n",
            "Epoch 85/150\n",
            "9/9 [==============================] - 0s 7ms/step - loss: 4.0105e-04 - mse: 4.0105e-04 - val_loss: 4.6451e-04 - val_mse: 4.6451e-04\n",
            "Epoch 86/150\n",
            "9/9 [==============================] - 0s 7ms/step - loss: 4.1442e-04 - mse: 4.1442e-04 - val_loss: 4.7159e-04 - val_mse: 4.7159e-04\n",
            "Epoch 87/150\n",
            "9/9 [==============================] - 0s 8ms/step - loss: 3.5552e-04 - mse: 3.5552e-04 - val_loss: 2.3901e-04 - val_mse: 2.3901e-04\n",
            "Epoch 88/150\n",
            "9/9 [==============================] - 0s 9ms/step - loss: 3.6939e-04 - mse: 3.6939e-04 - val_loss: 4.5160e-04 - val_mse: 4.5160e-04\n",
            "Epoch 89/150\n",
            "9/9 [==============================] - 0s 8ms/step - loss: 3.4053e-04 - mse: 3.4053e-04 - val_loss: 2.1232e-04 - val_mse: 2.1232e-04\n",
            "Epoch 90/150\n",
            "9/9 [==============================] - 0s 8ms/step - loss: 2.5401e-04 - mse: 2.5401e-04 - val_loss: 2.8075e-04 - val_mse: 2.8075e-04\n",
            "Epoch 91/150\n",
            "9/9 [==============================] - 0s 7ms/step - loss: 2.3995e-04 - mse: 2.3995e-04 - val_loss: 2.4201e-04 - val_mse: 2.4201e-04\n",
            "Epoch 92/150\n",
            "9/9 [==============================] - 0s 7ms/step - loss: 2.3623e-04 - mse: 2.3623e-04 - val_loss: 3.3824e-04 - val_mse: 3.3824e-04\n",
            "Epoch 93/150\n",
            "9/9 [==============================] - 0s 7ms/step - loss: 3.2974e-04 - mse: 3.2974e-04 - val_loss: 5.7258e-04 - val_mse: 5.7258e-04\n",
            "Epoch 94/150\n",
            "9/9 [==============================] - 0s 7ms/step - loss: 3.5258e-04 - mse: 3.5258e-04 - val_loss: 4.3457e-04 - val_mse: 4.3457e-04\n",
            "Epoch 95/150\n",
            "9/9 [==============================] - 0s 7ms/step - loss: 4.7922e-04 - mse: 4.7922e-04 - val_loss: 3.9041e-04 - val_mse: 3.9041e-04\n",
            "Epoch 96/150\n",
            "9/9 [==============================] - 0s 8ms/step - loss: 3.3717e-04 - mse: 3.3717e-04 - val_loss: 1.7348e-04 - val_mse: 1.7348e-04\n",
            "Epoch 97/150\n",
            "9/9 [==============================] - 0s 7ms/step - loss: 2.0906e-04 - mse: 2.0906e-04 - val_loss: 1.2965e-04 - val_mse: 1.2965e-04\n",
            "Epoch 98/150\n",
            "9/9 [==============================] - 0s 7ms/step - loss: 1.9529e-04 - mse: 1.9529e-04 - val_loss: 1.5171e-04 - val_mse: 1.5171e-04\n",
            "Epoch 99/150\n",
            "9/9 [==============================] - 0s 7ms/step - loss: 1.9183e-04 - mse: 1.9183e-04 - val_loss: 1.9234e-04 - val_mse: 1.9234e-04\n",
            "Epoch 100/150\n",
            "9/9 [==============================] - 0s 7ms/step - loss: 2.6588e-04 - mse: 2.6588e-04 - val_loss: 1.9743e-04 - val_mse: 1.9743e-04\n",
            "Epoch 101/150\n",
            "9/9 [==============================] - 0s 7ms/step - loss: 2.3290e-04 - mse: 2.3290e-04 - val_loss: 1.2967e-04 - val_mse: 1.2967e-04\n",
            "Epoch 102/150\n",
            "9/9 [==============================] - 0s 7ms/step - loss: 1.7477e-04 - mse: 1.7477e-04 - val_loss: 1.3746e-04 - val_mse: 1.3746e-04\n",
            "Epoch 103/150\n",
            "9/9 [==============================] - 0s 7ms/step - loss: 1.6850e-04 - mse: 1.6850e-04 - val_loss: 2.0246e-04 - val_mse: 2.0246e-04\n",
            "Epoch 104/150\n",
            "9/9 [==============================] - 0s 8ms/step - loss: 2.2593e-04 - mse: 2.2593e-04 - val_loss: 3.3738e-04 - val_mse: 3.3738e-04\n",
            "Epoch 105/150\n",
            "9/9 [==============================] - 0s 7ms/step - loss: 2.4319e-04 - mse: 2.4319e-04 - val_loss: 1.2352e-04 - val_mse: 1.2352e-04\n",
            "Epoch 106/150\n",
            "9/9 [==============================] - 0s 8ms/step - loss: 2.7096e-04 - mse: 2.7096e-04 - val_loss: 3.1749e-04 - val_mse: 3.1749e-04\n",
            "Epoch 107/150\n",
            "9/9 [==============================] - 0s 6ms/step - loss: 3.7303e-04 - mse: 3.7303e-04 - val_loss: 2.9068e-04 - val_mse: 2.9068e-04\n",
            "Epoch 108/150\n",
            "9/9 [==============================] - 0s 7ms/step - loss: 2.8096e-04 - mse: 2.8096e-04 - val_loss: 2.2524e-04 - val_mse: 2.2524e-04\n",
            "Epoch 109/150\n",
            "9/9 [==============================] - 0s 7ms/step - loss: 2.4755e-04 - mse: 2.4755e-04 - val_loss: 1.3838e-04 - val_mse: 1.3838e-04\n",
            "Epoch 110/150\n",
            "9/9 [==============================] - 0s 7ms/step - loss: 1.7839e-04 - mse: 1.7839e-04 - val_loss: 1.4781e-04 - val_mse: 1.4781e-04\n",
            "Epoch 111/150\n",
            "9/9 [==============================] - 0s 8ms/step - loss: 1.5487e-04 - mse: 1.5487e-04 - val_loss: 1.5028e-04 - val_mse: 1.5028e-04\n",
            "Epoch 112/150\n",
            "9/9 [==============================] - 0s 7ms/step - loss: 2.3765e-04 - mse: 2.3765e-04 - val_loss: 9.2759e-05 - val_mse: 9.2759e-05\n",
            "Epoch 113/150\n",
            "9/9 [==============================] - 0s 9ms/step - loss: 1.8710e-04 - mse: 1.8710e-04 - val_loss: 1.3741e-04 - val_mse: 1.3741e-04\n",
            "Epoch 114/150\n",
            "9/9 [==============================] - 0s 7ms/step - loss: 1.5027e-04 - mse: 1.5027e-04 - val_loss: 1.9765e-04 - val_mse: 1.9765e-04\n",
            "Epoch 115/150\n",
            "9/9 [==============================] - 0s 7ms/step - loss: 1.6586e-04 - mse: 1.6586e-04 - val_loss: 1.6533e-04 - val_mse: 1.6533e-04\n",
            "Epoch 116/150\n",
            "9/9 [==============================] - 0s 7ms/step - loss: 1.8658e-04 - mse: 1.8658e-04 - val_loss: 1.0540e-04 - val_mse: 1.0540e-04\n",
            "Epoch 117/150\n",
            "9/9 [==============================] - 0s 7ms/step - loss: 1.4971e-04 - mse: 1.4971e-04 - val_loss: 1.2932e-04 - val_mse: 1.2932e-04\n",
            "Epoch 118/150\n",
            "9/9 [==============================] - 0s 8ms/step - loss: 1.7734e-04 - mse: 1.7734e-04 - val_loss: 1.1197e-04 - val_mse: 1.1197e-04\n",
            "Epoch 119/150\n",
            "9/9 [==============================] - 0s 7ms/step - loss: 1.6114e-04 - mse: 1.6114e-04 - val_loss: 1.6713e-04 - val_mse: 1.6713e-04\n",
            "Epoch 120/150\n",
            "9/9 [==============================] - 0s 7ms/step - loss: 2.0378e-04 - mse: 2.0378e-04 - val_loss: 2.2612e-04 - val_mse: 2.2612e-04\n",
            "Epoch 121/150\n",
            "9/9 [==============================] - 0s 7ms/step - loss: 2.2929e-04 - mse: 2.2929e-04 - val_loss: 3.5050e-04 - val_mse: 3.5050e-04\n",
            "Epoch 122/150\n",
            "9/9 [==============================] - 0s 7ms/step - loss: 3.2532e-04 - mse: 3.2532e-04 - val_loss: 4.1789e-04 - val_mse: 4.1789e-04\n",
            "Epoch 123/150\n",
            "9/9 [==============================] - 0s 7ms/step - loss: 2.8886e-04 - mse: 2.8886e-04 - val_loss: 1.9706e-04 - val_mse: 1.9706e-04\n",
            "Epoch 124/150\n",
            "9/9 [==============================] - 0s 7ms/step - loss: 1.5015e-04 - mse: 1.5015e-04 - val_loss: 1.6421e-04 - val_mse: 1.6421e-04\n",
            "Epoch 125/150\n",
            "9/9 [==============================] - 0s 7ms/step - loss: 1.3734e-04 - mse: 1.3734e-04 - val_loss: 3.0038e-04 - val_mse: 3.0038e-04\n",
            "Epoch 126/150\n",
            "9/9 [==============================] - 0s 8ms/step - loss: 2.2345e-04 - mse: 2.2345e-04 - val_loss: 1.9533e-04 - val_mse: 1.9533e-04\n",
            "Epoch 127/150\n",
            "9/9 [==============================] - 0s 7ms/step - loss: 3.1191e-04 - mse: 3.1191e-04 - val_loss: 5.8883e-04 - val_mse: 5.8883e-04\n",
            "Epoch 128/150\n",
            "9/9 [==============================] - 0s 7ms/step - loss: 3.8079e-04 - mse: 3.8079e-04 - val_loss: 1.1760e-04 - val_mse: 1.1760e-04\n",
            "Epoch 129/150\n",
            "9/9 [==============================] - 0s 8ms/step - loss: 2.7429e-04 - mse: 2.7429e-04 - val_loss: 4.9652e-04 - val_mse: 4.9652e-04\n",
            "Epoch 130/150\n",
            "9/9 [==============================] - 0s 7ms/step - loss: 3.3518e-04 - mse: 3.3518e-04 - val_loss: 2.9008e-04 - val_mse: 2.9008e-04\n",
            "Epoch 131/150\n",
            "9/9 [==============================] - 0s 9ms/step - loss: 1.8063e-04 - mse: 1.8063e-04 - val_loss: 2.1799e-04 - val_mse: 2.1799e-04\n",
            "Epoch 132/150\n",
            "9/9 [==============================] - 0s 8ms/step - loss: 2.8985e-04 - mse: 2.8985e-04 - val_loss: 4.3887e-04 - val_mse: 4.3887e-04\n",
            "Epoch 133/150\n",
            "9/9 [==============================] - 0s 7ms/step - loss: 3.2009e-04 - mse: 3.2009e-04 - val_loss: 2.4712e-04 - val_mse: 2.4712e-04\n",
            "Epoch 134/150\n",
            "9/9 [==============================] - 0s 10ms/step - loss: 3.2863e-04 - mse: 3.2863e-04 - val_loss: 4.2568e-04 - val_mse: 4.2568e-04\n",
            "Epoch 135/150\n",
            "9/9 [==============================] - 0s 7ms/step - loss: 3.0283e-04 - mse: 3.0283e-04 - val_loss: 1.5376e-04 - val_mse: 1.5376e-04\n",
            "Epoch 136/150\n",
            "9/9 [==============================] - 0s 7ms/step - loss: 1.9451e-04 - mse: 1.9451e-04 - val_loss: 1.6855e-04 - val_mse: 1.6855e-04\n",
            "Epoch 137/150\n",
            "9/9 [==============================] - 0s 7ms/step - loss: 2.3164e-04 - mse: 2.3164e-04 - val_loss: 3.3556e-04 - val_mse: 3.3556e-04\n",
            "Epoch 138/150\n",
            "9/9 [==============================] - 0s 7ms/step - loss: 2.7675e-04 - mse: 2.7675e-04 - val_loss: 3.8025e-04 - val_mse: 3.8025e-04\n",
            "Epoch 139/150\n",
            "9/9 [==============================] - 0s 8ms/step - loss: 2.7823e-04 - mse: 2.7823e-04 - val_loss: 2.9257e-04 - val_mse: 2.9257e-04\n",
            "Epoch 140/150\n",
            "9/9 [==============================] - 0s 8ms/step - loss: 1.8679e-04 - mse: 1.8679e-04 - val_loss: 1.3176e-04 - val_mse: 1.3176e-04\n",
            "Epoch 141/150\n",
            "9/9 [==============================] - 0s 7ms/step - loss: 1.2824e-04 - mse: 1.2824e-04 - val_loss: 1.3314e-04 - val_mse: 1.3314e-04\n",
            "Epoch 142/150\n",
            "9/9 [==============================] - 0s 7ms/step - loss: 1.4078e-04 - mse: 1.4078e-04 - val_loss: 3.4473e-04 - val_mse: 3.4473e-04\n",
            "Epoch 143/150\n",
            "9/9 [==============================] - 0s 8ms/step - loss: 3.0434e-04 - mse: 3.0434e-04 - val_loss: 3.3586e-04 - val_mse: 3.3586e-04\n",
            "Epoch 144/150\n",
            "9/9 [==============================] - 0s 7ms/step - loss: 2.6626e-04 - mse: 2.6626e-04 - val_loss: 1.0529e-04 - val_mse: 1.0529e-04\n",
            "Epoch 145/150\n",
            "9/9 [==============================] - 0s 7ms/step - loss: 1.3991e-04 - mse: 1.3991e-04 - val_loss: 1.8326e-04 - val_mse: 1.8326e-04\n",
            "Epoch 146/150\n",
            "9/9 [==============================] - 0s 8ms/step - loss: 1.4432e-04 - mse: 1.4432e-04 - val_loss: 1.0735e-04 - val_mse: 1.0735e-04\n",
            "Epoch 147/150\n",
            "9/9 [==============================] - 0s 9ms/step - loss: 1.7755e-04 - mse: 1.7755e-04 - val_loss: 1.9797e-04 - val_mse: 1.9797e-04\n",
            "Epoch 148/150\n",
            "9/9 [==============================] - 0s 7ms/step - loss: 1.9170e-04 - mse: 1.9170e-04 - val_loss: 4.5003e-04 - val_mse: 4.5003e-04\n",
            "Epoch 149/150\n",
            "9/9 [==============================] - 0s 7ms/step - loss: 3.9547e-04 - mse: 3.9547e-04 - val_loss: 3.0698e-04 - val_mse: 3.0698e-04\n",
            "Epoch 150/150\n",
            "9/9 [==============================] - 0s 7ms/step - loss: 3.0657e-04 - mse: 3.0657e-04 - val_loss: 1.2969e-04 - val_mse: 1.2969e-04\n"
          ],
          "name": "stdout"
        }
      ]
    },
    {
      "cell_type": "code",
      "metadata": {
        "colab": {
          "base_uri": "https://localhost:8080/",
          "height": 312
        },
        "id": "-GvgbBkcxASS",
        "outputId": "b1b6b8ca-8c46-4fc5-cd4f-949d9af7ac2d"
      },
      "source": [
        "print(history.history.keys())\n",
        "# \"Loss\"\n",
        "plt.plot(history.history['loss'])\n",
        "plt.plot(history.history['val_loss'])\n",
        "plt.title('model loss')\n",
        "plt.ylabel('loss')\n",
        "plt.xlabel('epoch')\n",
        "plt.legend(['train', 'validation'], loc='upper left')\n",
        "plt.show()"
      ],
      "execution_count": null,
      "outputs": [
        {
          "output_type": "stream",
          "text": [
            "dict_keys(['loss', 'mse', 'val_loss', 'val_mse'])\n"
          ],
          "name": "stdout"
        },
        {
          "output_type": "display_data",
          "data": {
            "image/png": "[encoded data removed]",
            "text/plain": [
              "<Figure size 432x288 with 1 Axes>"
            ]
          },
          "metadata": {
            "tags": [],
            "needs_background": "light"
          }
        }
      ]
    },
    {
      "cell_type": "code",
      "metadata": {
        "id": "-GV6rcUzxWsU"
      },
      "source": [
        "y_pred = model.predict(x_test)"
      ],
      "execution_count": null,
      "outputs": []
    },
    {
      "cell_type": "code",
      "metadata": {
        "colab": {
          "base_uri": "https://localhost:8080/",
          "height": 1000
        },
        "id": "TaBW4tOixWvg",
        "outputId": "843fc2ba-14f7-4212-d22a-4e0c36e4b88a"
      },
      "source": [
        "plt.figure(figsize=(6, 4))\n",
        "plt.scatter(x_test[:,300],y_test,label=\"Actual Data\",s=10)\n",
        "plt.plot(x_test[:,300],y_pred,'.', label=\"Keras Regression\",c='c')\n",
        "plt.legend()\n",
        "plt.xlabel('wafe function number')\n",
        "plt.ylabel('y')\n",
        "plt.figure(figsize=(6, 4))\n",
        "plt.scatter(x_test[:,20],y_test,label=\"Actual Data\",s=10)\n",
        "plt.plot(x_test[:,20],y_pred,'.', label=\"Keras Regression\",c = 'c')\n",
        "plt.legend()\n",
        "plt.xlabel('correlation function')\n",
        "plt.ylabel('y')\n",
        "plt.figure(figsize=(6, 4))\n",
        "plt.scatter(x_test[:,70],y_test,label=\"Actual Data\",s=10)\n",
        "plt.plot(x_test[:,70],y_pred,'.', label=\"Keras Regression\", c = 'c')\n",
        "plt.legend()\n",
        "plt.xlabel('exp_mu')\n",
        "plt.ylabel('y')\n",
        "plt.figure(figsize=(6, 4))\n",
        "plt.scatter(x_test[:,88],y_test,label=\"Actual Data\",s=10)\n",
        "plt.plot(x_test[:,88],y_pred,'.', label=\"Keras Regression\", c = 'c')\n",
        "plt.legend()\n",
        "plt.xlabel('entanglement entropy')\n",
        "plt.figure(figsize=(6, 4))\n",
        "plt.scatter(x_test[:,78],y_test,label=\"Actual Data\",s=10)\n",
        "plt.plot(x_test[:,78],y_pred,'.', label=\"Keras Regression\", c = 'c')\n",
        "plt.legend()\n",
        "plt.xlabel('energy gap')\n",
        "plt.ylabel('y')"
      ],
      "execution_count": null,
      "outputs": [
        {
          "output_type": "execute_result",
          "data": {
            "text/plain": [
              "Text(0, 0.5, 'y')"
            ]
          },
          "metadata": {
            "tags": []
          },
          "execution_count": 12
        },
        {
          "output_type": "display_data",
          "data": {
            "image/png": "[encoded data removed]",
            "text/plain": [
              "<Figure size 432x288 with 1 Axes>"
            ]
          },
          "metadata": {
            "tags": [],
            "needs_background": "light"
          }
        },
        {
          "output_type": "display_data",
          "data": {
            "image/png": "[encoded data removed]",
            "text/plain": [
              "<Figure size 432x288 with 1 Axes>"
            ]
          },
          "metadata": {
            "tags": [],
            "needs_background": "light"
          }
        },
        {
          "output_type": "display_data",
          "data": {
            "image/png": "[encoded data removed]",
            "text/plain": [
              "<Figure size 432x288 with 1 Axes>"
            ]
          },
          "metadata": {
            "tags": [],
            "needs_background": "light"
          }
        },
        {
          "output_type": "display_data",
          "data": {
            "image/png": "[encoded data removed]",
            "text/plain": [
              "<Figure size 432x288 with 1 Axes>"
            ]
          },
          "metadata": {
            "tags": [],
            "needs_background": "light"
          }
        },
        {
          "output_type": "display_data",
          "data": {
            "image/png": "[encoded data removed]",
            "text/plain": [
              "<Figure size 432x288 with 1 Axes>"
            ]
          },
          "metadata": {
            "tags": [],
            "needs_background": "light"
          }
        }
      ]
    }
  ]
}