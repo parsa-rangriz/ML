{
 "cells": [
  {
   "cell_type": "markdown",
   "metadata": {
    "id": "Idb7WcKi7VCo"
   },
   "source": [
    "# Preliminaries"
   ]
  },
  {
   "cell_type": "code",
   "execution_count": 1,
   "metadata": {
    "id": "wYdI8HW86AbB"
   },
   "outputs": [],
   "source": [
    "import numpy as np\n",
    "import pandas as pd\n",
    "import matplotlib.pyplot as plt\n",
    "\n",
    "import warnings\n",
    "warnings.filterwarnings('ignore')"
   ]
  },
  {
   "cell_type": "code",
   "execution_count": 2,
   "metadata": {},
   "outputs": [],
   "source": [
    "keyword = list()\n",
    "for i in range(33, 127):\n",
    "    keyword.append(i)"
   ]
  },
  {
   "cell_type": "code",
   "execution_count": 3,
   "metadata": {},
   "outputs": [],
   "source": [
    "def scale(x, out_range=(33, 127)):\n",
    "    domain = np.min(x), np.max(x)\n",
    "    y = (x - (domain[1] + domain[0]) / 2) / (domain[1] - domain[0])\n",
    "    return y * (out_range[1] - out_range[0]) + (out_range[1] + out_range[0]) / 2"
   ]
  },
  {
   "cell_type": "markdown",
   "metadata": {
    "id": "iKifFdM9_AmD"
   },
   "source": [
    "# Personal Information"
   ]
  },
  {
   "cell_type": "code",
   "execution_count": 4,
   "metadata": {
    "colab": {
     "base_uri": "https://localhost:8080/",
     "height": 426
    },
    "id": "WRRiCftV_G5O",
    "outputId": "22a43537-b0dd-4231-852f-ce2b2154b717"
   },
   "outputs": [],
   "source": [
    "import csv\n",
    "\n",
    "header = ['first_name', 'last_name', 'age', 'birth_year', 'country', 'state',\n",
    "          'city', 'address', 'highschool', 'university', 'phone', 'father',\n",
    "          'mother', 'email', 'username', 'zipcode', 'credit_card']\n",
    "\n",
    "data = [\n",
    "        {\n",
    "         'first_name': 'Tonya',\n",
    "         'last_name': 'Watkins',\n",
    "         'age': '31',\n",
    "         'birth_year': '1990',\n",
    "         'country': 'USA',\n",
    "         'state': 'LA',\n",
    "         'city': 'Lake Charles',\n",
    "         'address': '2003 Willow Oaks Lane',\n",
    "         'highschool': 'Lowell High School',\n",
    "         'university': 'UC Irvine',\n",
    "         'phone': '337-338-6860',\n",
    "         'father': 'Thomas',\n",
    "         'mother': 'Jane',\n",
    "         'email': 'TonyaFWatkins@gmail.com',\n",
    "         'username': 'Wiffor1990',\n",
    "         'zipcode': '70601',\n",
    "         'credit_card': '5330 2256 5617 0654'\n",
    "        }\n",
    "]\n",
    "\n",
    "\n",
    "with open('personal_information.csv', 'w', encoding='UTF8', newline='') as f:\n",
    "    writer = csv.DictWriter(f, fieldnames=header)\n",
    "    writer.writeheader()\n",
    "    writer.writerows(data)"
   ]
  },
  {
   "cell_type": "markdown",
   "metadata": {
    "id": "0DHZ4n8y8d6l"
   },
   "source": [
    "# Neural Network"
   ]
  },
  {
   "cell_type": "markdown",
   "metadata": {
    "id": "vI86YkPY8w3W"
   },
   "source": [
    "## Activation Function"
   ]
  },
  {
   "cell_type": "code",
   "execution_count": 5,
   "metadata": {
    "id": "8KvlGU_a8ozt"
   },
   "outputs": [],
   "source": [
    "def sigmoid(x):\n",
    "    return 1 / (1 + np.exp(-x))\n",
    "\n",
    "def d_sigmoid(x):\n",
    "    a = sigmoid(x) #1 / (1 + np.exp(-x))\n",
    "    return a*(1-a) \n",
    "\n",
    "\n",
    "def relu(x):\n",
    "    return np.maximum(0,x)\n",
    "\n",
    "## Input cannot be a list, it has to be either a number or a numpy array. \n",
    "def d_relu(x):\n",
    "    return x>0\n",
    "\n",
    "def leaky_relu(x):\n",
    "    return np.maximum(0.01*x ,x)\n",
    "\n",
    "## Input cannot be a list, it has to be either a number or a numpy array. \n",
    "def d_leaky_relu(x):\n",
    "    return (x>0) + .01*(x<0)\n",
    "\n",
    "\n",
    "def tanh(x):\n",
    "    return np.tanh(x)\n",
    "\n",
    "def d_tanh(x):\n",
    "    return 1-np.tanh(x)**2\n",
    "\n",
    "def linear(x):\n",
    "    return x"
   ]
  },
  {
   "cell_type": "markdown",
   "metadata": {
    "id": "NV9lNt73821G"
   },
   "source": [
    "## Random Network Generator"
   ]
  },
  {
   "cell_type": "code",
   "execution_count": 6,
   "metadata": {
    "id": "IsQUu7f88cu1"
   },
   "outputs": [],
   "source": [
    "def random_network_generator( nl_list ):\n",
    "    w_list = []\n",
    "    b_list = []\n",
    "    for i in range(len(nl_list)-1 ):\n",
    "        w_list += [ np.random.uniform(-1,1,size=[nl_list[i+1] , nl_list[i] ]) ]\n",
    "        b_list += [ np.random.uniform(-1,1,size=[ nl_list[i+1], 1 ]) ]\n",
    "    return w_list, b_list"
   ]
  },
  {
   "cell_type": "markdown",
   "metadata": {
    "id": "D438fJ4r9END"
   },
   "source": [
    "## Loss Function"
   ]
  },
  {
   "cell_type": "code",
   "execution_count": 82,
   "metadata": {},
   "outputs": [],
   "source": [
    "def LOSS(a):\n",
    "    information = pd.read_csv('personal_information.csv')\n",
    "    information = information.values[0]\n",
    "    distance = 0\n",
    "    S = str()\n",
    "    A = list()\n",
    "    B = list()\n",
    "    a[0] = scale(a[0])\n",
    "    for i in range(len(a[0])):\n",
    "        S = S + (chr(int(a[0][i])))\n",
    "    for feature in range(len(information)):  \n",
    "        distance += int(str(information[feature]).lower() in S.lower())\n",
    "    for i in range(len(a[0])):\n",
    "        for j in range(len(a[0])):\n",
    "            if i != j and S.lower()[i] == S.lower()[j]:\n",
    "                distance += 1\n",
    "    return distance"
   ]
  },
  {
   "cell_type": "markdown",
   "metadata": {
    "id": "ZCOrA8au9ojP"
   },
   "source": [
    "## Feed-forward"
   ]
  },
  {
   "cell_type": "code",
   "execution_count": 8,
   "metadata": {},
   "outputs": [],
   "source": [
    "def single_layer(x, w, b ,  activation_func=(lambda x: leaky_relu(x)  ) ):\n",
    "    z = np.dot( w, x) + b\n",
    "    return z , activation_func( z )\n",
    "\n",
    "def NN_forward(x, w_list, b_list, activation_func_list=[(lambda x: leaky_relu(x))]  ):\n",
    "    a = x\n",
    "    z_list = []\n",
    "    a_list = [a]\n",
    "    if len(activation_func_list) == 1: \n",
    "        for i in range(len(w_list)):\n",
    "            z, a = single_layer(a , w_list[i], b_list[i] , activation_func_list[0] )\n",
    "            z_list += [ z ]\n",
    "            a_list += [ a ]\n",
    "    else:                           \n",
    "        for i in range(len(w_list)):\n",
    "            z, a = single_layer(a , w_list[i], b_list[i] , activation_func_list[i] )\n",
    "            z_list += [ z ]\n",
    "            a_list += [ a ]\n",
    "      \n",
    "    return a_list, z_list\n",
    "  \n",
    "\n",
    "def NN_func(w_list, b_list,  activation_func_list=[(lambda x: leaky_relu(x)) ] ):\n",
    "    def func(x):\n",
    "        return NN_forward(x, w_list, b_list, activation_func_list)\n",
    "    return(func)"
   ]
  },
  {
   "cell_type": "code",
   "execution_count": 9,
   "metadata": {},
   "outputs": [],
   "source": [
    "nl_list = [len(keyword), 10, 1]\n",
    "ws, bs = random_network_generator(nl_list)\n",
    "\n",
    "nn_f = NN_func(ws, bs , activation_func_list=[(lambda x: leaky_relu(x) )] )"
   ]
  },
  {
   "cell_type": "markdown",
   "metadata": {},
   "source": [
    "## Key Generation (v.1)"
   ]
  },
  {
   "cell_type": "code",
   "execution_count": 10,
   "metadata": {},
   "outputs": [
    {
     "name": "stdout",
     "output_type": "stream",
     "text": [
      "Our first password is: S!!!!A*:(\n"
     ]
    }
   ],
   "source": [
    "X = keyword\n",
    "Z = nn_f(X)\n",
    "output = Z[0][-1]\n",
    "Y = str()\n",
    "output = scale(output)\n",
    "for i in range(len(output[0])):\n",
    "    output[0][i] = int(output[0][i])\n",
    "    Y = Y + (chr(int(output[0][i])))\n",
    "print('Our first password is:',Y)"
   ]
  },
  {
   "cell_type": "markdown",
   "metadata": {},
   "source": [
    "## Feed-forward & Back-propagation"
   ]
  },
  {
   "cell_type": "code",
   "execution_count": 112,
   "metadata": {},
   "outputs": [],
   "source": [
    "class NN():\n",
    "    \n",
    "    def __init__(self, nl_list, \n",
    "                 activation_func_list= [[ lambda x: sigmoid(x), lambda x:sigmoid(x)*(1-sigmoid(x)) ] ], \n",
    "                 loss = [LOSS, LOSS],\n",
    "                 n_itr = 1000, ETA = .01, return_hist = False, \n",
    "                 return_loss_hist = False):\n",
    "\n",
    "        self.trained_ = False  \n",
    "        \n",
    "        self.n_f = nl_list[0]  \n",
    "        self.n_l_list = nl_list\n",
    "        self.n_layers = len(nl_list)\n",
    "        print(f\"There are {self.n_layers} layers in this network.\")\n",
    "               \n",
    "        self.w_list_, self.b_list_ = random_network_generator(self.n_l_list)\n",
    "        \n",
    "        self.loss_func = loss\n",
    "        if not len(activation_func_list) == self.n_layers-1:\n",
    "            print('Not enough act_func, will use the first layer for all of them.')\n",
    "            self.activation_func_list = np.array([activation_func_list[0] for i in range(self.n_layers-1) ])\n",
    "        else:\n",
    "            self.activation_func_list = np.array(activation_func_list)\n",
    "        \n",
    "        self.ETA = ETA   \n",
    "        self.n_itr = n_itr  \n",
    "        \n",
    "        self.return_hist = return_hist  \n",
    "        self.return_loss = return_loss_hist \n",
    "        \n",
    "        self.a_list = []\n",
    "        self.z_list = []\n",
    "        \n",
    "        self.loss_hist = []\n",
    "        self.w_hist = []\n",
    "        self.b_hist = []\n",
    "        self.Y_pred_hist = []\n",
    "\n",
    "    def single_step_forward(self, x, w, b ,  activation_func):\n",
    "        z = np.dot( w, x) + b\n",
    "        return z , activation_func( z ) \n",
    "\n",
    "        \n",
    "    def predict(self, X):\n",
    "        if self.trained_: \n",
    "            a = X\n",
    "            \n",
    "            self.z_list = []\n",
    "            self.a_list = [a]\n",
    "            if len(self.activation_func_list) == 1:  \n",
    "                for i in range(len(self.w_list_)):\n",
    "                                        \n",
    "                    z, a = self.single_step_forward( x=self.a_list[-1], \n",
    "                                                    w = self.w_list_[i], \n",
    "                                                    b=self.b_list_[i],\n",
    "                                                   activation_func = self.activation_func_list[0, 0])\n",
    "                    self.z_list += [ z ]\n",
    "                    self.a_list += [ a ]\n",
    "                    \n",
    "            else:                            \n",
    "                for i in range(len(self.w_list_)):\n",
    "\n",
    "                    z, a = self.single_step_forward(a , self.w_list_[i], \n",
    "                                                    self.b_list_[i] , \n",
    "                                                    self.activation_func_list[i][0] )\n",
    "                    self.z_list += [ z ]\n",
    "                    self.a_list += [ a ]\n",
    "\n",
    "            return a\n",
    "\n",
    "        else:\n",
    "            print(\"Not trained yet. \")\n",
    "    \n",
    "    def fit(self, X):\n",
    "        \n",
    "        self.trained_= True  \n",
    "        self.n_f , n_s = X.shape        \n",
    "        loss_list = []\n",
    "        w_list_list = []\n",
    "        b_list_list = []\n",
    "\n",
    "        for m in range(self.n_itr):\n",
    "      \n",
    "            layer_ind = self.n_layers - 1\n",
    "            a = self.predict( X )\n",
    "            a = scale(a)\n",
    "#             print(a)\n",
    "            self.Y_pred_hist += [ a ]\n",
    "\n",
    "\n",
    "            loss_list += [ self.loss_func[0](a) ]\n",
    "            w_list_list += [self.w_list_.copy()]\n",
    "            b_list_list += [self.b_list_.copy()]\n",
    "\n",
    "            da = self.loss_func[1](a)\n",
    "\n",
    "            dz = da * self.activation_func_list[layer_ind-1 , 1](self.z_list[layer_ind-1]) \n",
    "\n",
    "            dw = np.dot(  dz, self.a_list[layer_ind-1].T  ).reshape(self.n_l_list[layer_ind], \n",
    "                                                                    self.n_l_list[layer_ind-1])/n_s\n",
    "            db = np.sum(dz, axis=1).reshape(self.n_l_list[layer_ind],1)/n_s\n",
    "            dw_list = [dw]\n",
    "            db_list = [db]\n",
    "            for i in range(1, len(self.n_l_list)-1):\n",
    "                layer_ind =  self.n_layers-i-1\n",
    "                a = self.a_list[layer_ind]\n",
    "                w = self.w_list_[layer_ind]\n",
    "\n",
    "                dz = np.dot( w.T, dz ) * self.activation_func_list[layer_ind-1 , 1](self.z_list[layer_ind-1])     \n",
    "                dw = np.dot(  dz, self.a_list[layer_ind-1].T  ).reshape(self.n_l_list[layer_ind], \n",
    "                                                                        self.n_l_list[layer_ind-1])/n_s\n",
    "                db = np.sum(dz, axis=1).reshape(self.n_l_list[layer_ind],1)/n_s\n",
    "                dw_list += [dw]\n",
    "                db_list += [db]\n",
    "            \n",
    "\n",
    "            dw_list = dw_list[::-1]\n",
    "            db_list = db_list[::-1]\n",
    "            self.w_list_ = [self.w_list_[ind] - self.ETA*dw_list[ind] for ind in range(self.n_layers-1)]\n",
    "            self.b_list_ = [self.b_list_[ind] - self.ETA*db_list[ind] for ind in range(self.n_layers-1)]\n",
    "            \n",
    "        \n",
    "        a = self.predict( X )\n",
    "\n",
    "        loss_list += [self.loss_func[0](a) ]\n",
    "        w_list_list += [self.w_list_.copy()]\n",
    "        b_list_list += [self.b_list_.copy()]\n",
    "            \n",
    "        self.loss_hist += loss_list\n",
    "        self.w_hist += [w_list_list]\n",
    "        self.b_hist += [b_list_list]"
   ]
  },
  {
   "cell_type": "markdown",
   "metadata": {},
   "source": [
    "## Key Generation (v.2)"
   ]
  },
  {
   "cell_type": "code",
   "execution_count": 116,
   "metadata": {},
   "outputs": [],
   "source": [
    "X = keyword \n",
    "X = np.array([X,])"
   ]
  },
  {
   "cell_type": "code",
   "execution_count": 117,
   "metadata": {
    "scrolled": false
   },
   "outputs": [
    {
     "name": "stdout",
     "output_type": "stream",
     "text": [
      "There are 3 layers in this network.\n"
     ]
    },
    {
     "data": {
      "image/png": "[encoded data removed]",
      "text/plain": [
       "<Figure size 432x288 with 1 Axes>"
      ]
     },
     "metadata": {
      "needs_background": "light"
     },
     "output_type": "display_data"
    }
   ],
   "source": [
    "nl_list = [1, 10 , 1]\n",
    "act_list = [ [sigmoid, sigmoid] , [sigmoid, sigmoid] ]\n",
    "model = NN(nl_list, n_itr=100, ETA = 0.000001 , activation_func_list=act_list)\n",
    "model.fit(X)\n",
    "plt.plot(model.loss_hist)\n",
    "plt.show()"
   ]
  },
  {
   "cell_type": "code",
   "execution_count": 118,
   "metadata": {},
   "outputs": [],
   "source": [
    "Y = model.predict(X)"
   ]
  },
  {
   "cell_type": "code",
   "execution_count": 125,
   "metadata": {},
   "outputs": [
    {
     "data": {
      "text/plain": [
       "'}|zyxvutrq'"
      ]
     },
     "execution_count": 125,
     "metadata": {},
     "output_type": "execute_result"
    }
   ],
   "source": [
    "output = Y[0]\n",
    "output = scale(output)\n",
    "S = str()\n",
    "for i in range(1,11):\n",
    "    S = S + (chr(int(output[i])))\n",
    "S"
   ]
  }
 ],
 "metadata": {
  "colab": {
   "name": "Rangriz - 97110314.ipynb",
   "provenance": []
  },
  "kernelspec": {
   "display_name": "Python 3",
   "language": "python",
   "name": "python3"
  },
  "language_info": {
   "codemirror_mode": {
    "name": "ipython",
    "version": 3
   },
   "file_extension": ".py",
   "mimetype": "text/x-python",
   "name": "python",
   "nbconvert_exporter": "python",
   "pygments_lexer": "ipython3",
   "version": "3.8.5"
  }
 },
 "nbformat": 4,
 "nbformat_minor": 1
}
